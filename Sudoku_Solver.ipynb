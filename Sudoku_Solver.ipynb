{
 "cells": [
  {
   "cell_type": "code",
   "execution_count": 1,
   "metadata": {
    "collapsed": true
   },
   "outputs": [],
   "source": [
    "# Building a Sudoku solving AI Agent"
   ]
  },
  {
   "cell_type": "code",
   "execution_count": 88,
   "metadata": {
    "collapsed": true
   },
   "outputs": [],
   "source": [
    "# Helper diplay function\n",
    "\n",
    "def display(values):\n",
    "    \"\"\"\n",
    "    Display the values as a 2-D grid.\n",
    "    Input: The sudoku in dictionary form\n",
    "    Output: None\n",
    "    \"\"\"\n",
    "    width = 1+max(len(values[s]) for s in boxes)\n",
    "    line = '+'.join(['-'*(width*3)]*3)\n",
    "    for r in rows:\n",
    "        print(''.join(values[r+c].center(width)+('|' if c in '36' else '')\n",
    "                      for c in cols))\n",
    "        if r in 'CF': print(line)\n",
    "    return"
   ]
  },
  {
   "cell_type": "code",
   "execution_count": 89,
   "metadata": {
    "collapsed": true
   },
   "outputs": [],
   "source": [
    "rows = \"ABCDEFGHI\"\n",
    "cols = \"123456789\""
   ]
  },
  {
   "cell_type": "code",
   "execution_count": 90,
   "metadata": {
    "collapsed": true
   },
   "outputs": [],
   "source": [
    "def cross(a,b):\n",
    "    return list((x + y) for x in a for y in b )"
   ]
  },
  {
   "cell_type": "code",
   "execution_count": 91,
   "metadata": {},
   "outputs": [
    {
     "data": {
      "text/plain": [
       "['AD', 'AE', 'AF', 'BD', 'BE', 'BF', 'CD', 'CE', 'CF']"
      ]
     },
     "execution_count": 91,
     "metadata": {},
     "output_type": "execute_result"
    }
   ],
   "source": [
    "#Example of cross\n",
    "\n",
    "cross(\"ABC\",\"DEF\")"
   ]
  },
  {
   "cell_type": "code",
   "execution_count": 92,
   "metadata": {
    "collapsed": true
   },
   "outputs": [],
   "source": [
    "boxes = cross(rows,cols)"
   ]
  },
  {
   "cell_type": "code",
   "execution_count": 93,
   "metadata": {},
   "outputs": [
    {
     "name": "stdout",
     "output_type": "stream",
     "text": [
      "['A1', 'A2', 'A3', 'A4', 'A5', 'A6', 'A7', 'A8', 'A9', 'B1', 'B2', 'B3', 'B4', 'B5', 'B6', 'B7', 'B8', 'B9', 'C1', 'C2', 'C3', 'C4', 'C5', 'C6', 'C7', 'C8', 'C9', 'D1', 'D2', 'D3', 'D4', 'D5', 'D6', 'D7', 'D8', 'D9', 'E1', 'E2', 'E3', 'E4', 'E5', 'E6', 'E7', 'E8', 'E9', 'F1', 'F2', 'F3', 'F4', 'F5', 'F6', 'F7', 'F8', 'F9', 'G1', 'G2', 'G3', 'G4', 'G5', 'G6', 'G7', 'G8', 'G9', 'H1', 'H2', 'H3', 'H4', 'H5', 'H6', 'H7', 'H8', 'H9', 'I1', 'I2', 'I3', 'I4', 'I5', 'I6', 'I7', 'I8', 'I9']\n"
     ]
    }
   ],
   "source": [
    "print(boxes) #Boxes"
   ]
  },
  {
   "cell_type": "code",
   "execution_count": 94,
   "metadata": {},
   "outputs": [],
   "source": [
    "row_units = list(cross(r,columns) for r in rows)"
   ]
  },
  {
   "cell_type": "code",
   "execution_count": 99,
   "metadata": {},
   "outputs": [],
   "source": [
    "column_units = list(cross(rows,c) for c in cols)"
   ]
  },
  {
   "cell_type": "code",
   "execution_count": 100,
   "metadata": {},
   "outputs": [],
   "source": [
    "square_units = list(cross(rs,cs) for rs in (\"ABC\",\"DEF\",\"GHI\") for cs in (\"123\",\"456\",\"789\"))"
   ]
  },
  {
   "cell_type": "code",
   "execution_count": 101,
   "metadata": {
    "collapsed": true
   },
   "outputs": [],
   "source": [
    "unit_list = row_units + column_units + square_units"
   ]
  },
  {
   "cell_type": "code",
   "execution_count": 102,
   "metadata": {},
   "outputs": [],
   "source": [
    "units = dict((a,list(u for u in unit_list if a in u)) for a in boxes)"
   ]
  },
  {
   "cell_type": "code",
   "execution_count": 103,
   "metadata": {
    "collapsed": true
   },
   "outputs": [],
   "source": [
    "peers = dict((s, set(sum(units[s],[]))-set([s])) for s in boxes)"
   ]
  },
  {
   "cell_type": "code",
   "execution_count": 104,
   "metadata": {},
   "outputs": [],
   "source": [
    "def grid_values(s):\n",
    "    \n",
    "    assert len(s) == 81\n",
    "    dic = dict(zip(boxes,s))\n",
    "    \n",
    "    for key in dic:\n",
    "        if dic[key] == '.':\n",
    "            dic[key] = \"123456789\"\n",
    "        else:\n",
    "            dic[key] = dic[key]\n",
    "    return dic"
   ]
  },
  {
   "cell_type": "code",
   "execution_count": 105,
   "metadata": {},
   "outputs": [],
   "source": [
    "def eliminate(values): #values --> Sudoku in dictionary form\n",
    "    \n",
    "    solved_values = list(box for box in boxes if len(values[box]) == 1)\n",
    "    \n",
    "    for box in solved_values:\n",
    "        for peer in peers[box]:\n",
    "            values[peer] = values[peer].replace(values[box],'')\n",
    "    \n",
    "    return values\n",
    "    \n",
    "    "
   ]
  },
  {
   "cell_type": "code",
   "execution_count": 106,
   "metadata": {},
   "outputs": [],
   "source": [
    "def only_choice(values):\n",
    "    \n",
    "    for unit in unit_list:\n",
    "        \n",
    "        digits = \"123456789\"\n",
    "        \n",
    "        for digit in digits:\n",
    "            arr = list(box for box in unit if digit in values[box])\n",
    "            \n",
    "            if len(arr) == 1:\n",
    "                values[arr[0]] = digit\n",
    "            \n",
    "    return values"
   ]
  },
  {
   "cell_type": "code",
   "execution_count": 135,
   "metadata": {
    "collapsed": true
   },
   "outputs": [],
   "source": [
    "def reduce_puzzle(values): #This technique is called constraint propagation.\n",
    "    \n",
    "    stalled = False\n",
    "    \n",
    "    while stalled == False:\n",
    "        \n",
    "        solved_values_before = len(list(box for box in boxes if len(values[box]) == 1))\n",
    "        \n",
    "        eliminate(values)\n",
    "        \n",
    "        only_choice(values)\n",
    "        \n",
    "        solved_values_after = len(list(box for box in boxes if len(values[box]) == 1))\n",
    "        \n",
    "        stalled = solved_values_before == solved_values_after\n",
    "        \n",
    "        if len(list(box for box in boxes if len(values[box]) == 0)):\n",
    "            return False\n",
    "        \n",
    "    return values"
   ]
  },
  {
   "cell_type": "code",
   "execution_count": 110,
   "metadata": {
    "collapsed": true
   },
   "outputs": [],
   "source": [
    "#Now lets try to solve simple sudoku using just \"CONSTRIANT PROPOGATION\""
   ]
  },
  {
   "cell_type": "code",
   "execution_count": 112,
   "metadata": {},
   "outputs": [
    {
     "name": "stdout",
     "output_type": "stream",
     "text": [
      ". . 3 |. 2 . |6 . . \n",
      "9 . . |3 . 5 |. . 1 \n",
      ". . 1 |8 . 6 |4 . . \n",
      "------+------+------\n",
      ". . 8 |1 . 2 |9 . . \n",
      "7 . . |. . . |. . 8 \n",
      ". . 6 |7 . 8 |2 . . \n",
      "------+------+------\n",
      ". . 2 |6 . 9 |5 . . \n",
      "8 . . |2 . 3 |. . 9 \n",
      ". . 5 |. 1 . |3 . . \n"
     ]
    }
   ],
   "source": [
    "easy_sudoku_problem = display(dict(zip(boxes,\"..3.2.6..9..3.5..1..18.64....81.29..7.......8..67.82....26.95..8..2.3..9..5.1.3..\")))"
   ]
  },
  {
   "cell_type": "code",
   "execution_count": 123,
   "metadata": {},
   "outputs": [],
   "source": [
    "easy_sudoku_values = dict(zip(boxes,\"..3.2.6..9..3.5..1..18.64....81.29..7.......8..67.82....26.95..8..2.3..9..5.1.3..\"))"
   ]
  },
  {
   "cell_type": "code",
   "execution_count": 130,
   "metadata": {},
   "outputs": [],
   "source": [
    "easy_sudoku_values\n",
    "values = grid_values(\"..3.2.6..9..3.5..1..18.64....81.29..7.......8..67.82....26.95..8..2.3..9..5.1.3..\")"
   ]
  },
  {
   "cell_type": "code",
   "execution_count": 131,
   "metadata": {},
   "outputs": [
    {
     "data": {
      "text/plain": [
       "{'A1': '123456789',\n",
       " 'A2': '123456789',\n",
       " 'A3': '3',\n",
       " 'A4': '123456789',\n",
       " 'A5': '2',\n",
       " 'A6': '123456789',\n",
       " 'A7': '6',\n",
       " 'A8': '123456789',\n",
       " 'A9': '123456789',\n",
       " 'B1': '9',\n",
       " 'B2': '123456789',\n",
       " 'B3': '123456789',\n",
       " 'B4': '3',\n",
       " 'B5': '123456789',\n",
       " 'B6': '5',\n",
       " 'B7': '123456789',\n",
       " 'B8': '123456789',\n",
       " 'B9': '1',\n",
       " 'C1': '123456789',\n",
       " 'C2': '123456789',\n",
       " 'C3': '1',\n",
       " 'C4': '8',\n",
       " 'C5': '123456789',\n",
       " 'C6': '6',\n",
       " 'C7': '4',\n",
       " 'C8': '123456789',\n",
       " 'C9': '123456789',\n",
       " 'D1': '123456789',\n",
       " 'D2': '123456789',\n",
       " 'D3': '8',\n",
       " 'D4': '1',\n",
       " 'D5': '123456789',\n",
       " 'D6': '2',\n",
       " 'D7': '9',\n",
       " 'D8': '123456789',\n",
       " 'D9': '123456789',\n",
       " 'E1': '7',\n",
       " 'E2': '123456789',\n",
       " 'E3': '123456789',\n",
       " 'E4': '123456789',\n",
       " 'E5': '123456789',\n",
       " 'E6': '123456789',\n",
       " 'E7': '123456789',\n",
       " 'E8': '123456789',\n",
       " 'E9': '8',\n",
       " 'F1': '123456789',\n",
       " 'F2': '123456789',\n",
       " 'F3': '6',\n",
       " 'F4': '7',\n",
       " 'F5': '123456789',\n",
       " 'F6': '8',\n",
       " 'F7': '2',\n",
       " 'F8': '123456789',\n",
       " 'F9': '123456789',\n",
       " 'G1': '123456789',\n",
       " 'G2': '123456789',\n",
       " 'G3': '2',\n",
       " 'G4': '6',\n",
       " 'G5': '123456789',\n",
       " 'G6': '9',\n",
       " 'G7': '5',\n",
       " 'G8': '123456789',\n",
       " 'G9': '123456789',\n",
       " 'H1': '8',\n",
       " 'H2': '123456789',\n",
       " 'H3': '123456789',\n",
       " 'H4': '2',\n",
       " 'H5': '123456789',\n",
       " 'H6': '3',\n",
       " 'H7': '123456789',\n",
       " 'H8': '123456789',\n",
       " 'H9': '9',\n",
       " 'I1': '123456789',\n",
       " 'I2': '123456789',\n",
       " 'I3': '5',\n",
       " 'I4': '123456789',\n",
       " 'I5': '1',\n",
       " 'I6': '123456789',\n",
       " 'I7': '3',\n",
       " 'I8': '123456789',\n",
       " 'I9': '123456789'}"
      ]
     },
     "execution_count": 131,
     "metadata": {},
     "output_type": "execute_result"
    }
   ],
   "source": [
    "values"
   ]
  },
  {
   "cell_type": "code",
   "execution_count": 132,
   "metadata": {},
   "outputs": [
    {
     "name": "stdout",
     "output_type": "stream",
     "text": [
      "4 8 3 |9 2 1 |6 5 7 \n",
      "9 6 7 |3 4 5 |8 2 1 \n",
      "2 5 1 |8 7 6 |4 9 3 \n",
      "------+------+------\n",
      "5 4 8 |1 3 2 |9 7 6 \n",
      "7 2 9 |5 6 4 |1 3 8 \n",
      "1 3 6 |7 9 8 |2 4 5 \n",
      "------+------+------\n",
      "3 7 2 |6 8 9 |5 1 4 \n",
      "8 1 4 |2 5 3 |7 6 9 \n",
      "6 9 5 |4 1 7 |3 8 2 \n"
     ]
    }
   ],
   "source": [
    "answer = display(reduce_puzzle(values))"
   ]
  },
  {
   "cell_type": "markdown",
   "metadata": {},
   "source": [
    "We can see that our sudoku is solved.But lets see if this works for harder sudoku."
   ]
  },
  {
   "cell_type": "code",
   "execution_count": 133,
   "metadata": {
    "collapsed": true
   },
   "outputs": [],
   "source": [
    "values_2 = grid_values('4.....8.5.3..........7......2.....6.....8.4......1.......6.3.7.5..2.....1.4......')"
   ]
  },
  {
   "cell_type": "code",
   "execution_count": 134,
   "metadata": {},
   "outputs": [
    {
     "name": "stdout",
     "output_type": "stream",
     "text": [
      "   4      1679   12679  |  139     2369    269   |   8      1239     5    \n",
      " 26789     3    1256789 | 14589   24569   245689 | 12679    1249   124679 \n",
      "  2689   15689   125689 |   7     234569  245689 | 12369   12349   123469 \n",
      "------------------------+------------------------+------------------------\n",
      "  3789     2     15789  |  3459   34579    4579  | 13579     6     13789  \n",
      "  3679   15679   15679  |  359      8     25679  |   4     12359   12379  \n",
      " 36789     4     56789  |  359      1     25679  | 23579   23589   23789  \n",
      "------------------------+------------------------+------------------------\n",
      "  289      89     289   |   6      459      3    |  1259     7     12489  \n",
      "   5      6789     3    |   2      479      1    |   69     489     4689  \n",
      "   1      6789     4    |  589     579     5789  | 23569   23589   23689  \n"
     ]
    }
   ],
   "source": [
    "answer_2 = display(reduce_puzzle(values_2))"
   ]
  },
  {
   "cell_type": "markdown",
   "metadata": {},
   "source": [
    "Oh no!Our algorithm couldnt solve our harder sudoku problem.\n",
    "\n",
    "Now lets use another technique called **Searching** alsong with contraint propagationa and check if it can solve harder sudoku. "
   ]
  },
  {
   "cell_type": "code",
   "execution_count": 140,
   "metadata": {},
   "outputs": [],
   "source": [
    "#Searching\n",
    "\n",
    "\n",
    "def search(values):\n",
    "    \n",
    "    values = reduce_puzzle(values)\n",
    "    \n",
    "    if values == False:\n",
    "        return False\n",
    "    \n",
    "    count = 0\n",
    "    mini = 100\n",
    "    minblock = ''\n",
    "    \n",
    "    for key in values:\n",
    "        if len(values[key]) == 1:\n",
    "            count += 1\n",
    "        if (mini > len(values[key])) & (len(values[key]) > 1) :\n",
    "            mini = len(values[key])\n",
    "            miniblock = key\n",
    "    \n",
    "    if count == 81:\n",
    "        return values\n",
    "    \n",
    "    for value in values[miniblock]:\n",
    "        \n",
    "        new_sudoku = values.copy()\n",
    "        new_sudoku[miniblock] = value\n",
    "        attempt = search(new_sudoku)\n",
    "        if attempt:\n",
    "            return attempt\n",
    "    \n",
    "    "
   ]
  },
  {
   "cell_type": "code",
   "execution_count": 141,
   "metadata": {},
   "outputs": [
    {
     "data": {
      "text/plain": [
       "{'A1': '4',\n",
       " 'A2': '1',\n",
       " 'A3': '7',\n",
       " 'A4': '3',\n",
       " 'A5': '6',\n",
       " 'A6': '9',\n",
       " 'A7': '8',\n",
       " 'A8': '2',\n",
       " 'A9': '5',\n",
       " 'B1': '6',\n",
       " 'B2': '3',\n",
       " 'B3': '2',\n",
       " 'B4': '1',\n",
       " 'B5': '5',\n",
       " 'B6': '8',\n",
       " 'B7': '9',\n",
       " 'B8': '4',\n",
       " 'B9': '7',\n",
       " 'C1': '9',\n",
       " 'C2': '5',\n",
       " 'C3': '8',\n",
       " 'C4': '7',\n",
       " 'C5': '2',\n",
       " 'C6': '4',\n",
       " 'C7': '3',\n",
       " 'C8': '1',\n",
       " 'C9': '6',\n",
       " 'D1': '8',\n",
       " 'D2': '2',\n",
       " 'D3': '5',\n",
       " 'D4': '4',\n",
       " 'D5': '3',\n",
       " 'D6': '7',\n",
       " 'D7': '1',\n",
       " 'D8': '6',\n",
       " 'D9': '9',\n",
       " 'E1': '7',\n",
       " 'E2': '9',\n",
       " 'E3': '1',\n",
       " 'E4': '5',\n",
       " 'E5': '8',\n",
       " 'E6': '6',\n",
       " 'E7': '4',\n",
       " 'E8': '3',\n",
       " 'E9': '2',\n",
       " 'F1': '3',\n",
       " 'F2': '4',\n",
       " 'F3': '6',\n",
       " 'F4': '9',\n",
       " 'F5': '1',\n",
       " 'F6': '2',\n",
       " 'F7': '7',\n",
       " 'F8': '5',\n",
       " 'F9': '8',\n",
       " 'G1': '2',\n",
       " 'G2': '8',\n",
       " 'G3': '9',\n",
       " 'G4': '6',\n",
       " 'G5': '4',\n",
       " 'G6': '3',\n",
       " 'G7': '5',\n",
       " 'G8': '7',\n",
       " 'G9': '1',\n",
       " 'H1': '5',\n",
       " 'H2': '7',\n",
       " 'H3': '3',\n",
       " 'H4': '2',\n",
       " 'H5': '9',\n",
       " 'H6': '1',\n",
       " 'H7': '6',\n",
       " 'H8': '8',\n",
       " 'H9': '4',\n",
       " 'I1': '1',\n",
       " 'I2': '6',\n",
       " 'I3': '4',\n",
       " 'I4': '8',\n",
       " 'I5': '7',\n",
       " 'I6': '5',\n",
       " 'I7': '2',\n",
       " 'I8': '9',\n",
       " 'I9': '3'}"
      ]
     },
     "execution_count": 141,
     "metadata": {},
     "output_type": "execute_result"
    }
   ],
   "source": [
    "search(values_2)"
   ]
  },
  {
   "cell_type": "code",
   "execution_count": 142,
   "metadata": {},
   "outputs": [
    {
     "name": "stdout",
     "output_type": "stream",
     "text": [
      "4 1 7 |3 6 9 |8 2 5 \n",
      "6 3 2 |1 5 8 |9 4 7 \n",
      "9 5 8 |7 2 4 |3 1 6 \n",
      "------+------+------\n",
      "8 2 5 |4 3 7 |1 6 9 \n",
      "7 9 1 |5 8 6 |4 3 2 \n",
      "3 4 6 |9 1 2 |7 5 8 \n",
      "------+------+------\n",
      "2 8 9 |6 4 3 |5 7 1 \n",
      "5 7 3 |2 9 1 |6 8 4 \n",
      "1 6 4 |8 7 5 |2 9 3 \n"
     ]
    }
   ],
   "source": [
    "display(search(values_2))"
   ]
  },
  {
   "cell_type": "markdown",
   "metadata": {},
   "source": [
    "Hurrah! It worked.\n",
    "\n",
    "We can solve any sudoku puzzle now using this algorithm.We used two important techniques of **Artificial Intelligence**.Those are **Constraint Propagation** and **Search**."
   ]
  },
  {
   "cell_type": "code",
   "execution_count": null,
   "metadata": {
    "collapsed": true
   },
   "outputs": [],
   "source": []
  }
 ],
 "metadata": {
  "kernelspec": {
   "display_name": "Python [default]",
   "language": "python",
   "name": "python3"
  },
  "language_info": {
   "codemirror_mode": {
    "name": "ipython",
    "version": 3
   },
   "file_extension": ".py",
   "mimetype": "text/x-python",
   "name": "python",
   "nbconvert_exporter": "python",
   "pygments_lexer": "ipython3",
   "version": "3.6.2"
  }
 },
 "nbformat": 4,
 "nbformat_minor": 2
}
